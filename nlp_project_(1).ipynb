{
  "metadata": {
    "kernelspec": {
      "language": "python",
      "display_name": "Python 3",
      "name": "python3"
    },
    "language_info": {
      "name": "python",
      "version": "3.10.10",
      "mimetype": "text/x-python",
      "codemirror_mode": {
        "name": "ipython",
        "version": 3
      },
      "pygments_lexer": "ipython3",
      "nbconvert_exporter": "python",
      "file_extension": ".py"
    },
    "colab": {
      "provenance": [],
      "gpuType": "T4",
      "include_colab_link": true
    },
    "accelerator": "GPU",
    "gpuClass": "standard"
  },
  "nbformat_minor": 0,
  "nbformat": 4,
  "cells": [
    {
      "cell_type": "markdown",
      "metadata": {
        "id": "view-in-github",
        "colab_type": "text"
      },
      "source": [
        "<a href=\"https://colab.research.google.com/github/FatimaShenno/NLP_Projects/blob/main/nlp_project_(1).ipynb\" target=\"_parent\"><img src=\"https://colab.research.google.com/assets/colab-badge.svg\" alt=\"Open In Colab\"/></a>"
      ]
    },
    {
      "cell_type": "code",
      "source": [
        "import numpy as np\n",
        "import pandas as pd\n",
        "import os\n",
        "import matplotlib.pyplot as plt\n",
        "import seaborn as sns\n",
        "import tensorflow as tf\n",
        "import tensorflow as tf\n",
        "\n",
        "\n",
        "import nltk\n",
        "import re\n",
        "import string\n",
        "\n",
        "import warnings\n",
        "warnings.filterwarnings('ignore')"
      ],
      "metadata": {
        "execution": {
          "iopub.status.busy": "2023-05-25T13:21:24.250005Z",
          "iopub.execute_input": "2023-05-25T13:21:24.250742Z",
          "iopub.status.idle": "2023-05-25T13:21:27.389647Z",
          "shell.execute_reply.started": "2023-05-25T13:21:24.250700Z",
          "shell.execute_reply": "2023-05-25T13:21:27.388732Z"
        },
        "trusted": true,
        "id": "gno5d42qFVL2"
      },
      "execution_count": null,
      "outputs": []
    },
    {
      "cell_type": "markdown",
      "source": [
        "**Loading Data**"
      ],
      "metadata": {
        "id": "3g8z0V8nFVMA"
      }
    },
    {
      "cell_type": "code",
      "source": [
        "train_data = pd.read_csv('/content/Train.csv')\n",
        "valid_data =  pd.read_csv('/content/Valid.csv')\n",
        "test_data = pd.read_csv('/content/Test.csv')"
      ],
      "metadata": {
        "execution": {
          "iopub.status.busy": "2023-05-25T13:21:27.391032Z",
          "iopub.execute_input": "2023-05-25T13:21:27.391780Z",
          "iopub.status.idle": "2023-05-25T13:21:27.894453Z",
          "shell.execute_reply.started": "2023-05-25T13:21:27.391746Z",
          "shell.execute_reply": "2023-05-25T13:21:27.893480Z"
        },
        "trusted": true,
        "id": "5gHvKTdUFVMD"
      },
      "execution_count": null,
      "outputs": []
    },
    {
      "cell_type": "code",
      "source": [
        "train_data.head(5)"
      ],
      "metadata": {
        "execution": {
          "iopub.status.busy": "2023-05-25T13:21:27.896376Z",
          "iopub.execute_input": "2023-05-25T13:21:27.897122Z",
          "iopub.status.idle": "2023-05-25T13:21:27.909893Z",
          "shell.execute_reply.started": "2023-05-25T13:21:27.897086Z",
          "shell.execute_reply": "2023-05-25T13:21:27.908647Z"
        },
        "trusted": true,
        "id": "J43WrqpRFVMF",
        "colab": {
          "base_uri": "https://localhost:8080/",
          "height": 206
        },
        "outputId": "65f9aac4-53d7-4d5a-9fa6-5871587ed5f7"
      },
      "execution_count": null,
      "outputs": [
        {
          "output_type": "execute_result",
          "data": {
            "text/plain": [
              "                                                text  label\n",
              "0  I grew up (b. 1965) watching and loving the Th...      0\n",
              "1  When I put this movie in my DVD player, and sa...      0\n",
              "2  Why do people who do not know what a particula...      0\n",
              "3  Even though I have great interest in Biblical ...      0\n",
              "4  Im a die hard Dads Army fan and nothing will e...      1"
            ],
            "text/html": [
              "\n",
              "  <div id=\"df-6f886c82-3990-46b8-be88-2c760a0fc061\">\n",
              "    <div class=\"colab-df-container\">\n",
              "      <div>\n",
              "<style scoped>\n",
              "    .dataframe tbody tr th:only-of-type {\n",
              "        vertical-align: middle;\n",
              "    }\n",
              "\n",
              "    .dataframe tbody tr th {\n",
              "        vertical-align: top;\n",
              "    }\n",
              "\n",
              "    .dataframe thead th {\n",
              "        text-align: right;\n",
              "    }\n",
              "</style>\n",
              "<table border=\"1\" class=\"dataframe\">\n",
              "  <thead>\n",
              "    <tr style=\"text-align: right;\">\n",
              "      <th></th>\n",
              "      <th>text</th>\n",
              "      <th>label</th>\n",
              "    </tr>\n",
              "  </thead>\n",
              "  <tbody>\n",
              "    <tr>\n",
              "      <th>0</th>\n",
              "      <td>I grew up (b. 1965) watching and loving the Th...</td>\n",
              "      <td>0</td>\n",
              "    </tr>\n",
              "    <tr>\n",
              "      <th>1</th>\n",
              "      <td>When I put this movie in my DVD player, and sa...</td>\n",
              "      <td>0</td>\n",
              "    </tr>\n",
              "    <tr>\n",
              "      <th>2</th>\n",
              "      <td>Why do people who do not know what a particula...</td>\n",
              "      <td>0</td>\n",
              "    </tr>\n",
              "    <tr>\n",
              "      <th>3</th>\n",
              "      <td>Even though I have great interest in Biblical ...</td>\n",
              "      <td>0</td>\n",
              "    </tr>\n",
              "    <tr>\n",
              "      <th>4</th>\n",
              "      <td>Im a die hard Dads Army fan and nothing will e...</td>\n",
              "      <td>1</td>\n",
              "    </tr>\n",
              "  </tbody>\n",
              "</table>\n",
              "</div>\n",
              "      <button class=\"colab-df-convert\" onclick=\"convertToInteractive('df-6f886c82-3990-46b8-be88-2c760a0fc061')\"\n",
              "              title=\"Convert this dataframe to an interactive table.\"\n",
              "              style=\"display:none;\">\n",
              "        \n",
              "  <svg xmlns=\"http://www.w3.org/2000/svg\" height=\"24px\"viewBox=\"0 0 24 24\"\n",
              "       width=\"24px\">\n",
              "    <path d=\"M0 0h24v24H0V0z\" fill=\"none\"/>\n",
              "    <path d=\"M18.56 5.44l.94 2.06.94-2.06 2.06-.94-2.06-.94-.94-2.06-.94 2.06-2.06.94zm-11 1L8.5 8.5l.94-2.06 2.06-.94-2.06-.94L8.5 2.5l-.94 2.06-2.06.94zm10 10l.94 2.06.94-2.06 2.06-.94-2.06-.94-.94-2.06-.94 2.06-2.06.94z\"/><path d=\"M17.41 7.96l-1.37-1.37c-.4-.4-.92-.59-1.43-.59-.52 0-1.04.2-1.43.59L10.3 9.45l-7.72 7.72c-.78.78-.78 2.05 0 2.83L4 21.41c.39.39.9.59 1.41.59.51 0 1.02-.2 1.41-.59l7.78-7.78 2.81-2.81c.8-.78.8-2.07 0-2.86zM5.41 20L4 18.59l7.72-7.72 1.47 1.35L5.41 20z\"/>\n",
              "  </svg>\n",
              "      </button>\n",
              "      \n",
              "  <style>\n",
              "    .colab-df-container {\n",
              "      display:flex;\n",
              "      flex-wrap:wrap;\n",
              "      gap: 12px;\n",
              "    }\n",
              "\n",
              "    .colab-df-convert {\n",
              "      background-color: #E8F0FE;\n",
              "      border: none;\n",
              "      border-radius: 50%;\n",
              "      cursor: pointer;\n",
              "      display: none;\n",
              "      fill: #1967D2;\n",
              "      height: 32px;\n",
              "      padding: 0 0 0 0;\n",
              "      width: 32px;\n",
              "    }\n",
              "\n",
              "    .colab-df-convert:hover {\n",
              "      background-color: #E2EBFA;\n",
              "      box-shadow: 0px 1px 2px rgba(60, 64, 67, 0.3), 0px 1px 3px 1px rgba(60, 64, 67, 0.15);\n",
              "      fill: #174EA6;\n",
              "    }\n",
              "\n",
              "    [theme=dark] .colab-df-convert {\n",
              "      background-color: #3B4455;\n",
              "      fill: #D2E3FC;\n",
              "    }\n",
              "\n",
              "    [theme=dark] .colab-df-convert:hover {\n",
              "      background-color: #434B5C;\n",
              "      box-shadow: 0px 1px 3px 1px rgba(0, 0, 0, 0.15);\n",
              "      filter: drop-shadow(0px 1px 2px rgba(0, 0, 0, 0.3));\n",
              "      fill: #FFFFFF;\n",
              "    }\n",
              "  </style>\n",
              "\n",
              "      <script>\n",
              "        const buttonEl =\n",
              "          document.querySelector('#df-6f886c82-3990-46b8-be88-2c760a0fc061 button.colab-df-convert');\n",
              "        buttonEl.style.display =\n",
              "          google.colab.kernel.accessAllowed ? 'block' : 'none';\n",
              "\n",
              "        async function convertToInteractive(key) {\n",
              "          const element = document.querySelector('#df-6f886c82-3990-46b8-be88-2c760a0fc061');\n",
              "          const dataTable =\n",
              "            await google.colab.kernel.invokeFunction('convertToInteractive',\n",
              "                                                     [key], {});\n",
              "          if (!dataTable) return;\n",
              "\n",
              "          const docLinkHtml = 'Like what you see? Visit the ' +\n",
              "            '<a target=\"_blank\" href=https://colab.research.google.com/notebooks/data_table.ipynb>data table notebook</a>'\n",
              "            + ' to learn more about interactive tables.';\n",
              "          element.innerHTML = '';\n",
              "          dataTable['output_type'] = 'display_data';\n",
              "          await google.colab.output.renderOutput(dataTable, element);\n",
              "          const docLink = document.createElement('div');\n",
              "          docLink.innerHTML = docLinkHtml;\n",
              "          element.appendChild(docLink);\n",
              "        }\n",
              "      </script>\n",
              "    </div>\n",
              "  </div>\n",
              "  "
            ]
          },
          "metadata": {},
          "execution_count": 3
        }
      ]
    },
    {
      "cell_type": "code",
      "source": [
        "valid_data.head(5)"
      ],
      "metadata": {
        "execution": {
          "iopub.status.busy": "2023-05-25T13:21:27.914135Z",
          "iopub.execute_input": "2023-05-25T13:21:27.914404Z",
          "iopub.status.idle": "2023-05-25T13:21:27.923308Z",
          "shell.execute_reply.started": "2023-05-25T13:21:27.914380Z",
          "shell.execute_reply": "2023-05-25T13:21:27.922215Z"
        },
        "trusted": true,
        "id": "A0jCsDDnFVMH",
        "colab": {
          "base_uri": "https://localhost:8080/",
          "height": 206
        },
        "outputId": "fa482f4d-6ec1-4cee-f32f-2895c0162318"
      },
      "execution_count": null,
      "outputs": [
        {
          "output_type": "execute_result",
          "data": {
            "text/plain": [
              "                                                text  label\n",
              "0  It's been about 14 years since Sharon Stone aw...      0\n",
              "1  someone needed to make a car payment... this i...      0\n",
              "2  The Guidelines state that a comment must conta...      0\n",
              "3  This movie is a muddled mish-mash of clichés f...      0\n",
              "4  Before Stan Laurel became the smaller half of ...      0"
            ],
            "text/html": [
              "\n",
              "  <div id=\"df-e0938fd0-2020-4ef3-aecc-d8cee761f29a\">\n",
              "    <div class=\"colab-df-container\">\n",
              "      <div>\n",
              "<style scoped>\n",
              "    .dataframe tbody tr th:only-of-type {\n",
              "        vertical-align: middle;\n",
              "    }\n",
              "\n",
              "    .dataframe tbody tr th {\n",
              "        vertical-align: top;\n",
              "    }\n",
              "\n",
              "    .dataframe thead th {\n",
              "        text-align: right;\n",
              "    }\n",
              "</style>\n",
              "<table border=\"1\" class=\"dataframe\">\n",
              "  <thead>\n",
              "    <tr style=\"text-align: right;\">\n",
              "      <th></th>\n",
              "      <th>text</th>\n",
              "      <th>label</th>\n",
              "    </tr>\n",
              "  </thead>\n",
              "  <tbody>\n",
              "    <tr>\n",
              "      <th>0</th>\n",
              "      <td>It's been about 14 years since Sharon Stone aw...</td>\n",
              "      <td>0</td>\n",
              "    </tr>\n",
              "    <tr>\n",
              "      <th>1</th>\n",
              "      <td>someone needed to make a car payment... this i...</td>\n",
              "      <td>0</td>\n",
              "    </tr>\n",
              "    <tr>\n",
              "      <th>2</th>\n",
              "      <td>The Guidelines state that a comment must conta...</td>\n",
              "      <td>0</td>\n",
              "    </tr>\n",
              "    <tr>\n",
              "      <th>3</th>\n",
              "      <td>This movie is a muddled mish-mash of clichés f...</td>\n",
              "      <td>0</td>\n",
              "    </tr>\n",
              "    <tr>\n",
              "      <th>4</th>\n",
              "      <td>Before Stan Laurel became the smaller half of ...</td>\n",
              "      <td>0</td>\n",
              "    </tr>\n",
              "  </tbody>\n",
              "</table>\n",
              "</div>\n",
              "      <button class=\"colab-df-convert\" onclick=\"convertToInteractive('df-e0938fd0-2020-4ef3-aecc-d8cee761f29a')\"\n",
              "              title=\"Convert this dataframe to an interactive table.\"\n",
              "              style=\"display:none;\">\n",
              "        \n",
              "  <svg xmlns=\"http://www.w3.org/2000/svg\" height=\"24px\"viewBox=\"0 0 24 24\"\n",
              "       width=\"24px\">\n",
              "    <path d=\"M0 0h24v24H0V0z\" fill=\"none\"/>\n",
              "    <path d=\"M18.56 5.44l.94 2.06.94-2.06 2.06-.94-2.06-.94-.94-2.06-.94 2.06-2.06.94zm-11 1L8.5 8.5l.94-2.06 2.06-.94-2.06-.94L8.5 2.5l-.94 2.06-2.06.94zm10 10l.94 2.06.94-2.06 2.06-.94-2.06-.94-.94-2.06-.94 2.06-2.06.94z\"/><path d=\"M17.41 7.96l-1.37-1.37c-.4-.4-.92-.59-1.43-.59-.52 0-1.04.2-1.43.59L10.3 9.45l-7.72 7.72c-.78.78-.78 2.05 0 2.83L4 21.41c.39.39.9.59 1.41.59.51 0 1.02-.2 1.41-.59l7.78-7.78 2.81-2.81c.8-.78.8-2.07 0-2.86zM5.41 20L4 18.59l7.72-7.72 1.47 1.35L5.41 20z\"/>\n",
              "  </svg>\n",
              "      </button>\n",
              "      \n",
              "  <style>\n",
              "    .colab-df-container {\n",
              "      display:flex;\n",
              "      flex-wrap:wrap;\n",
              "      gap: 12px;\n",
              "    }\n",
              "\n",
              "    .colab-df-convert {\n",
              "      background-color: #E8F0FE;\n",
              "      border: none;\n",
              "      border-radius: 50%;\n",
              "      cursor: pointer;\n",
              "      display: none;\n",
              "      fill: #1967D2;\n",
              "      height: 32px;\n",
              "      padding: 0 0 0 0;\n",
              "      width: 32px;\n",
              "    }\n",
              "\n",
              "    .colab-df-convert:hover {\n",
              "      background-color: #E2EBFA;\n",
              "      box-shadow: 0px 1px 2px rgba(60, 64, 67, 0.3), 0px 1px 3px 1px rgba(60, 64, 67, 0.15);\n",
              "      fill: #174EA6;\n",
              "    }\n",
              "\n",
              "    [theme=dark] .colab-df-convert {\n",
              "      background-color: #3B4455;\n",
              "      fill: #D2E3FC;\n",
              "    }\n",
              "\n",
              "    [theme=dark] .colab-df-convert:hover {\n",
              "      background-color: #434B5C;\n",
              "      box-shadow: 0px 1px 3px 1px rgba(0, 0, 0, 0.15);\n",
              "      filter: drop-shadow(0px 1px 2px rgba(0, 0, 0, 0.3));\n",
              "      fill: #FFFFFF;\n",
              "    }\n",
              "  </style>\n",
              "\n",
              "      <script>\n",
              "        const buttonEl =\n",
              "          document.querySelector('#df-e0938fd0-2020-4ef3-aecc-d8cee761f29a button.colab-df-convert');\n",
              "        buttonEl.style.display =\n",
              "          google.colab.kernel.accessAllowed ? 'block' : 'none';\n",
              "\n",
              "        async function convertToInteractive(key) {\n",
              "          const element = document.querySelector('#df-e0938fd0-2020-4ef3-aecc-d8cee761f29a');\n",
              "          const dataTable =\n",
              "            await google.colab.kernel.invokeFunction('convertToInteractive',\n",
              "                                                     [key], {});\n",
              "          if (!dataTable) return;\n",
              "\n",
              "          const docLinkHtml = 'Like what you see? Visit the ' +\n",
              "            '<a target=\"_blank\" href=https://colab.research.google.com/notebooks/data_table.ipynb>data table notebook</a>'\n",
              "            + ' to learn more about interactive tables.';\n",
              "          element.innerHTML = '';\n",
              "          dataTable['output_type'] = 'display_data';\n",
              "          await google.colab.output.renderOutput(dataTable, element);\n",
              "          const docLink = document.createElement('div');\n",
              "          docLink.innerHTML = docLinkHtml;\n",
              "          element.appendChild(docLink);\n",
              "        }\n",
              "      </script>\n",
              "    </div>\n",
              "  </div>\n",
              "  "
            ]
          },
          "metadata": {},
          "execution_count": 4
        }
      ]
    },
    {
      "cell_type": "markdown",
      "source": [
        "**Exploring the Data**"
      ],
      "metadata": {
        "id": "RotB6c1jFVMI"
      }
    },
    {
      "cell_type": "code",
      "source": [
        "train_data.shape"
      ],
      "metadata": {
        "execution": {
          "iopub.status.busy": "2023-05-25T13:21:27.925047Z",
          "iopub.execute_input": "2023-05-25T13:21:27.925752Z",
          "iopub.status.idle": "2023-05-25T13:21:27.931763Z",
          "shell.execute_reply.started": "2023-05-25T13:21:27.925717Z",
          "shell.execute_reply": "2023-05-25T13:21:27.930857Z"
        },
        "trusted": true,
        "id": "ZHyJ9TERFVMJ",
        "colab": {
          "base_uri": "https://localhost:8080/"
        },
        "outputId": "9b851474-c872-46a6-ede5-9540f43986f4"
      },
      "execution_count": null,
      "outputs": [
        {
          "output_type": "execute_result",
          "data": {
            "text/plain": [
              "(40000, 2)"
            ]
          },
          "metadata": {},
          "execution_count": 5
        }
      ]
    },
    {
      "cell_type": "code",
      "source": [
        "valid_data.shape"
      ],
      "metadata": {
        "execution": {
          "iopub.status.busy": "2023-05-25T13:21:27.933254Z",
          "iopub.execute_input": "2023-05-25T13:21:27.933982Z",
          "iopub.status.idle": "2023-05-25T13:21:27.941718Z",
          "shell.execute_reply.started": "2023-05-25T13:21:27.933939Z",
          "shell.execute_reply": "2023-05-25T13:21:27.940774Z"
        },
        "trusted": true,
        "id": "XQNu06eyFVMK",
        "colab": {
          "base_uri": "https://localhost:8080/"
        },
        "outputId": "84f6dcb6-b86e-455d-90bd-4ece7534cc3d"
      },
      "execution_count": null,
      "outputs": [
        {
          "output_type": "execute_result",
          "data": {
            "text/plain": [
              "(5000, 2)"
            ]
          },
          "metadata": {},
          "execution_count": 6
        }
      ]
    },
    {
      "cell_type": "code",
      "source": [
        "train_data.info()"
      ],
      "metadata": {
        "execution": {
          "iopub.status.busy": "2023-05-25T13:21:27.943329Z",
          "iopub.execute_input": "2023-05-25T13:21:27.944084Z",
          "iopub.status.idle": "2023-05-25T13:21:27.971527Z",
          "shell.execute_reply.started": "2023-05-25T13:21:27.944051Z",
          "shell.execute_reply": "2023-05-25T13:21:27.970536Z"
        },
        "trusted": true,
        "id": "a3_a839HFVML",
        "colab": {
          "base_uri": "https://localhost:8080/"
        },
        "outputId": "90199fcf-f5d5-43f1-a8e0-bf7bbaa51bf8"
      },
      "execution_count": null,
      "outputs": [
        {
          "output_type": "stream",
          "name": "stdout",
          "text": [
            "<class 'pandas.core.frame.DataFrame'>\n",
            "RangeIndex: 40000 entries, 0 to 39999\n",
            "Data columns (total 2 columns):\n",
            " #   Column  Non-Null Count  Dtype \n",
            "---  ------  --------------  ----- \n",
            " 0   text    40000 non-null  object\n",
            " 1   label   40000 non-null  int64 \n",
            "dtypes: int64(1), object(1)\n",
            "memory usage: 625.1+ KB\n"
          ]
        }
      ]
    },
    {
      "cell_type": "code",
      "source": [
        "valid_data.info()"
      ],
      "metadata": {
        "execution": {
          "iopub.status.busy": "2023-05-25T13:21:27.973032Z",
          "iopub.execute_input": "2023-05-25T13:21:27.973361Z",
          "iopub.status.idle": "2023-05-25T13:21:27.985374Z",
          "shell.execute_reply.started": "2023-05-25T13:21:27.973330Z",
          "shell.execute_reply": "2023-05-25T13:21:27.984341Z"
        },
        "trusted": true,
        "id": "A4KSY6cpFVMN",
        "colab": {
          "base_uri": "https://localhost:8080/"
        },
        "outputId": "3bdda05f-e3b9-45f8-db66-d62cc83fa1a4"
      },
      "execution_count": null,
      "outputs": [
        {
          "output_type": "stream",
          "name": "stdout",
          "text": [
            "<class 'pandas.core.frame.DataFrame'>\n",
            "RangeIndex: 5000 entries, 0 to 4999\n",
            "Data columns (total 2 columns):\n",
            " #   Column  Non-Null Count  Dtype \n",
            "---  ------  --------------  ----- \n",
            " 0   text    5000 non-null   object\n",
            " 1   label   5000 non-null   int64 \n",
            "dtypes: int64(1), object(1)\n",
            "memory usage: 78.2+ KB\n"
          ]
        }
      ]
    },
    {
      "cell_type": "code",
      "source": [
        "train_data.describe(include=\"object\")"
      ],
      "metadata": {
        "execution": {
          "iopub.status.busy": "2023-05-25T13:21:27.986950Z",
          "iopub.execute_input": "2023-05-25T13:21:27.987715Z",
          "iopub.status.idle": "2023-05-25T13:21:28.054844Z",
          "shell.execute_reply.started": "2023-05-25T13:21:27.987656Z",
          "shell.execute_reply": "2023-05-25T13:21:28.053823Z"
        },
        "trusted": true,
        "id": "y0oSyTpwFVMO",
        "colab": {
          "base_uri": "https://localhost:8080/",
          "height": 175
        },
        "outputId": "003c41bd-843c-4b51-aaa2-e297c6f92962"
      },
      "execution_count": null,
      "outputs": [
        {
          "output_type": "execute_result",
          "data": {
            "text/plain": [
              "                                                     text\n",
              "count                                               40000\n",
              "unique                                              39723\n",
              "top     Hilarious, clean, light-hearted, and quote-wor...\n",
              "freq                                                    4"
            ],
            "text/html": [
              "\n",
              "  <div id=\"df-d37bf4da-b5b2-4dfb-97f7-84fade3d9e0a\">\n",
              "    <div class=\"colab-df-container\">\n",
              "      <div>\n",
              "<style scoped>\n",
              "    .dataframe tbody tr th:only-of-type {\n",
              "        vertical-align: middle;\n",
              "    }\n",
              "\n",
              "    .dataframe tbody tr th {\n",
              "        vertical-align: top;\n",
              "    }\n",
              "\n",
              "    .dataframe thead th {\n",
              "        text-align: right;\n",
              "    }\n",
              "</style>\n",
              "<table border=\"1\" class=\"dataframe\">\n",
              "  <thead>\n",
              "    <tr style=\"text-align: right;\">\n",
              "      <th></th>\n",
              "      <th>text</th>\n",
              "    </tr>\n",
              "  </thead>\n",
              "  <tbody>\n",
              "    <tr>\n",
              "      <th>count</th>\n",
              "      <td>40000</td>\n",
              "    </tr>\n",
              "    <tr>\n",
              "      <th>unique</th>\n",
              "      <td>39723</td>\n",
              "    </tr>\n",
              "    <tr>\n",
              "      <th>top</th>\n",
              "      <td>Hilarious, clean, light-hearted, and quote-wor...</td>\n",
              "    </tr>\n",
              "    <tr>\n",
              "      <th>freq</th>\n",
              "      <td>4</td>\n",
              "    </tr>\n",
              "  </tbody>\n",
              "</table>\n",
              "</div>\n",
              "      <button class=\"colab-df-convert\" onclick=\"convertToInteractive('df-d37bf4da-b5b2-4dfb-97f7-84fade3d9e0a')\"\n",
              "              title=\"Convert this dataframe to an interactive table.\"\n",
              "              style=\"display:none;\">\n",
              "        \n",
              "  <svg xmlns=\"http://www.w3.org/2000/svg\" height=\"24px\"viewBox=\"0 0 24 24\"\n",
              "       width=\"24px\">\n",
              "    <path d=\"M0 0h24v24H0V0z\" fill=\"none\"/>\n",
              "    <path d=\"M18.56 5.44l.94 2.06.94-2.06 2.06-.94-2.06-.94-.94-2.06-.94 2.06-2.06.94zm-11 1L8.5 8.5l.94-2.06 2.06-.94-2.06-.94L8.5 2.5l-.94 2.06-2.06.94zm10 10l.94 2.06.94-2.06 2.06-.94-2.06-.94-.94-2.06-.94 2.06-2.06.94z\"/><path d=\"M17.41 7.96l-1.37-1.37c-.4-.4-.92-.59-1.43-.59-.52 0-1.04.2-1.43.59L10.3 9.45l-7.72 7.72c-.78.78-.78 2.05 0 2.83L4 21.41c.39.39.9.59 1.41.59.51 0 1.02-.2 1.41-.59l7.78-7.78 2.81-2.81c.8-.78.8-2.07 0-2.86zM5.41 20L4 18.59l7.72-7.72 1.47 1.35L5.41 20z\"/>\n",
              "  </svg>\n",
              "      </button>\n",
              "      \n",
              "  <style>\n",
              "    .colab-df-container {\n",
              "      display:flex;\n",
              "      flex-wrap:wrap;\n",
              "      gap: 12px;\n",
              "    }\n",
              "\n",
              "    .colab-df-convert {\n",
              "      background-color: #E8F0FE;\n",
              "      border: none;\n",
              "      border-radius: 50%;\n",
              "      cursor: pointer;\n",
              "      display: none;\n",
              "      fill: #1967D2;\n",
              "      height: 32px;\n",
              "      padding: 0 0 0 0;\n",
              "      width: 32px;\n",
              "    }\n",
              "\n",
              "    .colab-df-convert:hover {\n",
              "      background-color: #E2EBFA;\n",
              "      box-shadow: 0px 1px 2px rgba(60, 64, 67, 0.3), 0px 1px 3px 1px rgba(60, 64, 67, 0.15);\n",
              "      fill: #174EA6;\n",
              "    }\n",
              "\n",
              "    [theme=dark] .colab-df-convert {\n",
              "      background-color: #3B4455;\n",
              "      fill: #D2E3FC;\n",
              "    }\n",
              "\n",
              "    [theme=dark] .colab-df-convert:hover {\n",
              "      background-color: #434B5C;\n",
              "      box-shadow: 0px 1px 3px 1px rgba(0, 0, 0, 0.15);\n",
              "      filter: drop-shadow(0px 1px 2px rgba(0, 0, 0, 0.3));\n",
              "      fill: #FFFFFF;\n",
              "    }\n",
              "  </style>\n",
              "\n",
              "      <script>\n",
              "        const buttonEl =\n",
              "          document.querySelector('#df-d37bf4da-b5b2-4dfb-97f7-84fade3d9e0a button.colab-df-convert');\n",
              "        buttonEl.style.display =\n",
              "          google.colab.kernel.accessAllowed ? 'block' : 'none';\n",
              "\n",
              "        async function convertToInteractive(key) {\n",
              "          const element = document.querySelector('#df-d37bf4da-b5b2-4dfb-97f7-84fade3d9e0a');\n",
              "          const dataTable =\n",
              "            await google.colab.kernel.invokeFunction('convertToInteractive',\n",
              "                                                     [key], {});\n",
              "          if (!dataTable) return;\n",
              "\n",
              "          const docLinkHtml = 'Like what you see? Visit the ' +\n",
              "            '<a target=\"_blank\" href=https://colab.research.google.com/notebooks/data_table.ipynb>data table notebook</a>'\n",
              "            + ' to learn more about interactive tables.';\n",
              "          element.innerHTML = '';\n",
              "          dataTable['output_type'] = 'display_data';\n",
              "          await google.colab.output.renderOutput(dataTable, element);\n",
              "          const docLink = document.createElement('div');\n",
              "          docLink.innerHTML = docLinkHtml;\n",
              "          element.appendChild(docLink);\n",
              "        }\n",
              "      </script>\n",
              "    </div>\n",
              "  </div>\n",
              "  "
            ]
          },
          "metadata": {},
          "execution_count": 9
        }
      ]
    },
    {
      "cell_type": "code",
      "source": [
        "# from wordcloud import WordCloud\n",
        "\n",
        "# plt.subplots(figsize=(25,15))\n",
        "# wordcloud = WordCloud(background_color='Black',\n",
        "#                       width=1920,\n",
        "#                       height=1080\n",
        "#                      ).generate(\" \".join(data['text']))\n",
        "\n",
        "# plt.imshow(wordcloud)\n",
        "# plt.axis('off')\n",
        "# plt.show()"
      ],
      "metadata": {
        "execution": {
          "iopub.status.busy": "2023-05-25T13:21:28.056523Z",
          "iopub.execute_input": "2023-05-25T13:21:28.056920Z",
          "iopub.status.idle": "2023-05-25T13:21:28.061540Z",
          "shell.execute_reply.started": "2023-05-25T13:21:28.056884Z",
          "shell.execute_reply": "2023-05-25T13:21:28.060665Z"
        },
        "trusted": true,
        "id": "vqx2Ui9vFVMP"
      },
      "execution_count": null,
      "outputs": []
    },
    {
      "cell_type": "code",
      "source": [
        "train_data.label.value_counts()"
      ],
      "metadata": {
        "execution": {
          "iopub.status.busy": "2023-05-25T13:21:28.063099Z",
          "iopub.execute_input": "2023-05-25T13:21:28.063951Z",
          "iopub.status.idle": "2023-05-25T13:21:28.075634Z",
          "shell.execute_reply.started": "2023-05-25T13:21:28.063901Z",
          "shell.execute_reply": "2023-05-25T13:21:28.074721Z"
        },
        "trusted": true,
        "id": "RYVPLHHIFVMQ",
        "colab": {
          "base_uri": "https://localhost:8080/"
        },
        "outputId": "899b0b89-095a-40d2-9bfb-92bdd585999e"
      },
      "execution_count": null,
      "outputs": [
        {
          "output_type": "execute_result",
          "data": {
            "text/plain": [
              "0    20019\n",
              "1    19981\n",
              "Name: label, dtype: int64"
            ]
          },
          "metadata": {},
          "execution_count": 11
        }
      ]
    },
    {
      "cell_type": "code",
      "source": [
        "sns.countplot(x='label',data = train_data)\n",
        "plt.show()"
      ],
      "metadata": {
        "execution": {
          "iopub.status.busy": "2023-05-25T13:21:28.076735Z",
          "iopub.execute_input": "2023-05-25T13:21:28.077239Z",
          "iopub.status.idle": "2023-05-25T13:21:28.269373Z",
          "shell.execute_reply.started": "2023-05-25T13:21:28.077199Z",
          "shell.execute_reply": "2023-05-25T13:21:28.268455Z"
        },
        "trusted": true,
        "id": "Gg5s9Z4ZFVMQ",
        "colab": {
          "base_uri": "https://localhost:8080/",
          "height": 449
        },
        "outputId": "30964468-7598-46fa-f37a-362ff574386a"
      },
      "execution_count": null,
      "outputs": [
        {
          "output_type": "display_data",
          "data": {
            "text/plain": [
              "<Figure size 640x480 with 1 Axes>"
            ],
            "image/png": "[encoded data removed]"
          },
          "metadata": {}
        }
      ]
    },
    {
      "cell_type": "code",
      "source": [
        "train_data.isnull().sum()"
      ],
      "metadata": {
        "execution": {
          "iopub.status.busy": "2023-05-25T13:21:28.273514Z",
          "iopub.execute_input": "2023-05-25T13:21:28.274306Z",
          "iopub.status.idle": "2023-05-25T13:21:28.296260Z",
          "shell.execute_reply.started": "2023-05-25T13:21:28.274277Z",
          "shell.execute_reply": "2023-05-25T13:21:28.295216Z"
        },
        "trusted": true,
        "id": "H03gFTwTFVMR",
        "colab": {
          "base_uri": "https://localhost:8080/"
        },
        "outputId": "8c5f3f90-7da3-4e09-e53d-474d3e55142a"
      },
      "execution_count": null,
      "outputs": [
        {
          "output_type": "execute_result",
          "data": {
            "text/plain": [
              "text     0\n",
              "label    0\n",
              "dtype: int64"
            ]
          },
          "metadata": {},
          "execution_count": 13
        }
      ]
    },
    {
      "cell_type": "code",
      "source": [
        "valid_data.isnull().sum()"
      ],
      "metadata": {
        "execution": {
          "iopub.status.busy": "2023-05-25T13:21:28.297738Z",
          "iopub.execute_input": "2023-05-25T13:21:28.298237Z",
          "iopub.status.idle": "2023-05-25T13:21:28.309587Z",
          "shell.execute_reply.started": "2023-05-25T13:21:28.298200Z",
          "shell.execute_reply": "2023-05-25T13:21:28.308602Z"
        },
        "trusted": true,
        "id": "5zWHyD4-FVMS",
        "colab": {
          "base_uri": "https://localhost:8080/"
        },
        "outputId": "4a08f77a-81de-4d27-c6f7-190db26a8b8b"
      },
      "execution_count": null,
      "outputs": [
        {
          "output_type": "execute_result",
          "data": {
            "text/plain": [
              "text     0\n",
              "label    0\n",
              "dtype: int64"
            ]
          },
          "metadata": {},
          "execution_count": 14
        }
      ]
    },
    {
      "cell_type": "code",
      "source": [
        "# df = train_data.copy()"
      ],
      "metadata": {
        "execution": {
          "iopub.status.busy": "2023-05-25T13:21:28.311222Z",
          "iopub.execute_input": "2023-05-25T13:21:28.311560Z",
          "iopub.status.idle": "2023-05-25T13:21:28.316410Z",
          "shell.execute_reply.started": "2023-05-25T13:21:28.311528Z",
          "shell.execute_reply": "2023-05-25T13:21:28.314613Z"
        },
        "trusted": true,
        "id": "qPrquxq1FVMS"
      },
      "execution_count": null,
      "outputs": []
    },
    {
      "cell_type": "code",
      "source": [
        "X_train = train_data.text\n",
        "print(X_train)"
      ],
      "metadata": {
        "execution": {
          "iopub.status.busy": "2023-05-25T13:21:28.319015Z",
          "iopub.execute_input": "2023-05-25T13:21:28.319738Z",
          "iopub.status.idle": "2023-05-25T13:21:28.328326Z",
          "shell.execute_reply.started": "2023-05-25T13:21:28.319704Z",
          "shell.execute_reply": "2023-05-25T13:21:28.327328Z"
        },
        "trusted": true,
        "id": "IZDPQXqNFVMT",
        "colab": {
          "base_uri": "https://localhost:8080/"
        },
        "outputId": "a33402f4-9b9f-4c72-cf5d-073ab35eae61"
      },
      "execution_count": null,
      "outputs": [
        {
          "output_type": "stream",
          "name": "stdout",
          "text": [
            "0        I grew up (b. 1965) watching and loving the Th...\n",
            "1        When I put this movie in my DVD player, and sa...\n",
            "2        Why do people who do not know what a particula...\n",
            "3        Even though I have great interest in Biblical ...\n",
            "4        Im a die hard Dads Army fan and nothing will e...\n",
            "                               ...                        \n",
            "39995    \"Western Union\" is something of a forgotten cl...\n",
            "39996    This movie is an incredible piece of work. It ...\n",
            "39997    My wife and I watched this movie because we pl...\n",
            "39998    When I first watched Flatliners, I was amazed....\n",
            "39999    Why would this film be so good, but only gross...\n",
            "Name: text, Length: 40000, dtype: object\n"
          ]
        }
      ]
    },
    {
      "cell_type": "code",
      "source": [
        "Y_train = train_data.label\n",
        "print(Y_train)"
      ],
      "metadata": {
        "execution": {
          "iopub.status.busy": "2023-05-25T13:21:28.330941Z",
          "iopub.execute_input": "2023-05-25T13:21:28.331566Z",
          "iopub.status.idle": "2023-05-25T13:21:28.337396Z",
          "shell.execute_reply.started": "2023-05-25T13:21:28.331535Z",
          "shell.execute_reply": "2023-05-25T13:21:28.336487Z"
        },
        "trusted": true,
        "id": "ruMlDqU6FVMT",
        "colab": {
          "base_uri": "https://localhost:8080/"
        },
        "outputId": "b01627b9-59ef-408e-940c-24fa87442311"
      },
      "execution_count": null,
      "outputs": [
        {
          "output_type": "stream",
          "name": "stdout",
          "text": [
            "0        0\n",
            "1        0\n",
            "2        0\n",
            "3        0\n",
            "4        1\n",
            "        ..\n",
            "39995    1\n",
            "39996    1\n",
            "39997    0\n",
            "39998    1\n",
            "39999    1\n",
            "Name: label, Length: 40000, dtype: int64\n"
          ]
        }
      ]
    },
    {
      "cell_type": "code",
      "source": [
        "X_valid = valid_data.text\n",
        "print(X_valid)"
      ],
      "metadata": {
        "execution": {
          "iopub.status.busy": "2023-05-25T13:21:28.338885Z",
          "iopub.execute_input": "2023-05-25T13:21:28.339571Z",
          "iopub.status.idle": "2023-05-25T13:21:28.346376Z",
          "shell.execute_reply.started": "2023-05-25T13:21:28.339497Z",
          "shell.execute_reply": "2023-05-25T13:21:28.345385Z"
        },
        "trusted": true,
        "id": "YNn7S2iFFVMU",
        "colab": {
          "base_uri": "https://localhost:8080/"
        },
        "outputId": "3839dda3-07bc-4ae2-837d-478f7719974a"
      },
      "execution_count": null,
      "outputs": [
        {
          "output_type": "stream",
          "name": "stdout",
          "text": [
            "0       It's been about 14 years since Sharon Stone aw...\n",
            "1       someone needed to make a car payment... this i...\n",
            "2       The Guidelines state that a comment must conta...\n",
            "3       This movie is a muddled mish-mash of clichés f...\n",
            "4       Before Stan Laurel became the smaller half of ...\n",
            "                              ...                        \n",
            "4995    Man, I loved this movie! This really takes me ...\n",
            "4996    Recovery is an incredibly moving piece of work...\n",
            "4997    You can take the crook out of the joint, but i...\n",
            "4998    FUTZ is the only show preserved from the exper...\n",
            "4999    \"The Mother\" tells of a recently widowed mid-6...\n",
            "Name: text, Length: 5000, dtype: object\n"
          ]
        }
      ]
    },
    {
      "cell_type": "code",
      "source": [
        "Y_valid = valid_data.label\n",
        "print(Y_valid)"
      ],
      "metadata": {
        "execution": {
          "iopub.status.busy": "2023-05-25T13:21:28.347859Z",
          "iopub.execute_input": "2023-05-25T13:21:28.348525Z",
          "iopub.status.idle": "2023-05-25T13:21:28.354652Z",
          "shell.execute_reply.started": "2023-05-25T13:21:28.348466Z",
          "shell.execute_reply": "2023-05-25T13:21:28.353714Z"
        },
        "trusted": true,
        "id": "YW14pdagFVMV",
        "colab": {
          "base_uri": "https://localhost:8080/"
        },
        "outputId": "465b4400-69f0-4ae9-d71c-ced728a49525"
      },
      "execution_count": null,
      "outputs": [
        {
          "output_type": "stream",
          "name": "stdout",
          "text": [
            "0       0\n",
            "1       0\n",
            "2       0\n",
            "3       0\n",
            "4       0\n",
            "       ..\n",
            "4995    1\n",
            "4996    1\n",
            "4997    1\n",
            "4998    1\n",
            "4999    1\n",
            "Name: label, Length: 5000, dtype: int64\n"
          ]
        }
      ]
    },
    {
      "cell_type": "code",
      "source": [
        "Y_train=tf.reshape(Y_train,(-1,1))\n",
        "Y_valid=tf.reshape(Y_valid,(-1,1))"
      ],
      "metadata": {
        "execution": {
          "iopub.status.busy": "2023-05-25T13:21:28.356198Z",
          "iopub.execute_input": "2023-05-25T13:21:28.357038Z",
          "iopub.status.idle": "2023-05-25T13:21:29.661746Z",
          "shell.execute_reply.started": "2023-05-25T13:21:28.357000Z",
          "shell.execute_reply": "2023-05-25T13:21:29.660522Z"
        },
        "trusted": true,
        "id": "lGI0Frg4FVMV"
      },
      "execution_count": null,
      "outputs": []
    },
    {
      "cell_type": "code",
      "source": [
        "import nltk"
      ],
      "metadata": {
        "id": "JQuutxy2JZxQ"
      },
      "execution_count": null,
      "outputs": []
    },
    {
      "cell_type": "code",
      "source": [
        "nltk.download('stopwords')"
      ],
      "metadata": {
        "id": "DibT8sVRJdQZ",
        "colab": {
          "base_uri": "https://localhost:8080/"
        },
        "outputId": "57de14ed-689e-4c71-b4be-7fbf0707289d"
      },
      "execution_count": null,
      "outputs": [
        {
          "output_type": "stream",
          "name": "stderr",
          "text": [
            "[nltk_data] Downloading package stopwords to /root/nltk_data...\n",
            "[nltk_data]   Package stopwords is already up-to-date!\n"
          ]
        },
        {
          "output_type": "execute_result",
          "data": {
            "text/plain": [
              "True"
            ]
          },
          "metadata": {},
          "execution_count": 22
        }
      ]
    },
    {
      "cell_type": "code",
      "source": [
        "from nltk.corpus import stopwords\n",
        "sw_nltk = stopwords.words('english')\n",
        "sw_nltk.remove('not')"
      ],
      "metadata": {
        "id": "9mOeVLhfJKko"
      },
      "execution_count": null,
      "outputs": []
    },
    {
      "cell_type": "code",
      "source": [
        "import re\n",
        "\n",
        "def remove_punctuations(data):\n",
        "    punct_tag=re.compile(r'[^\\w\\s]')\n",
        "    data=punct_tag.sub(r'',data)\n",
        "    return data\n",
        "\n",
        "def remove_html(data):\n",
        "    html_tag=re.compile(r'<.*?>')\n",
        "    data=html_tag.sub(r'',data)\n",
        "    return data\n",
        "\n",
        "def remove_url(data):\n",
        "    url_clean= re.compile(r\"https://\\S+|www\\.\\S+\")\n",
        "    data=url_clean.sub(r'',data)\n",
        "    return data\n",
        "\n",
        "\n",
        "from nltk.corpus import stopwords\n",
        "sw_nltk = stopwords.words('english')\n",
        "sw_nltk.remove('not')\n",
        "\n",
        "def remove_stopwords(text):\n",
        "    return \" \".join([word for word in text.split() if word not in sw_nltk])\n",
        "\n",
        "def stemming(text):\n",
        "    return \" \".join([ps.stem(word) for word in text.split()])"
      ],
      "metadata": {
        "execution": {
          "iopub.status.busy": "2023-05-25T13:21:29.665876Z",
          "iopub.execute_input": "2023-05-25T13:21:29.666193Z",
          "iopub.status.idle": "2023-05-25T13:21:29.680436Z",
          "shell.execute_reply.started": "2023-05-25T13:21:29.666155Z",
          "shell.execute_reply": "2023-05-25T13:21:29.679316Z"
        },
        "trusted": true,
        "id": "g8B23pkrFVMW"
      },
      "execution_count": null,
      "outputs": []
    },
    {
      "cell_type": "code",
      "source": [
        "# train_data['text']=train_data['text'].apply(lambda x: remove_punctuations(x).lower())\n",
        "# train_data['text']=train_data['text'].apply(lambda x: remove_html(x))\n",
        "# train_data['text']=train_data['text'].apply(lambda x: remove_url(x))\n",
        "# train_data['text']=train_data['text'].apply(lambda x: remove_stopwords(x))\n",
        "# ps = nltk.PorterStemmer()\n",
        "# train_data['text']=train_data['text'].apply(lambda x: stemming(x))"
      ],
      "metadata": {
        "execution": {
          "iopub.status.busy": "2023-05-25T13:21:29.682392Z",
          "iopub.execute_input": "2023-05-25T13:21:29.683651Z",
          "iopub.status.idle": "2023-05-25T13:21:29.688328Z",
          "shell.execute_reply.started": "2023-05-25T13:21:29.683623Z",
          "shell.execute_reply": "2023-05-25T13:21:29.687400Z"
        },
        "trusted": true,
        "id": "3B8xafikFVMW"
      },
      "execution_count": null,
      "outputs": []
    },
    {
      "cell_type": "code",
      "source": [
        "X_train=X_train.apply(lambda x: remove_punctuations(x).lower())\n",
        "X_train=X_train.apply(lambda x: remove_html(x))\n",
        "X_train=X_train.apply(lambda x: remove_url(x))\n",
        "X_train=X_train.apply(lambda x: remove_stopwords(x))\n",
        "ps = nltk.PorterStemmer()\n",
        "X_train=X_train.apply(lambda x: stemming(x))"
      ],
      "metadata": {
        "execution": {
          "iopub.status.busy": "2023-05-25T13:22:58.439886Z",
          "iopub.execute_input": "2023-05-25T13:22:58.440263Z"
        },
        "trusted": true,
        "id": "Ri5cIbf3FVMX"
      },
      "execution_count": null,
      "outputs": []
    },
    {
      "cell_type": "code",
      "source": [
        "X_valid=X_valid.apply(lambda x: remove_punctuations(x).lower())\n",
        "X_valid=X_valid.apply(lambda x: remove_html(x))\n",
        "X_valid=X_valid.apply(lambda x: remove_url(x))\n",
        "X_valid=X_valid.apply(lambda x: remove_stopwords(x))\n",
        "ps = nltk.PorterStemmer()\n",
        "X_valid=X_valid.apply(lambda x: stemming(x))"
      ],
      "metadata": {
        "id": "xXb1Y7MGIQ7N"
      },
      "execution_count": null,
      "outputs": []
    },
    {
      "cell_type": "code",
      "source": [
        "X_train.head(5)"
      ],
      "metadata": {
        "colab": {
          "base_uri": "https://localhost:8080/"
        },
        "id": "pnwTiS01bkNX",
        "outputId": "7572d649-bc51-498b-c2d4-2dcaca1ec84b"
      },
      "execution_count": null,
      "outputs": [
        {
          "output_type": "execute_result",
          "data": {
            "text/plain": [
              "0    grew b 1965 watch love thunderbird mate school...\n",
              "1    put movi dvd player sat coke chip expect hope ...\n",
              "2    peopl not know particular time past like feel ...\n",
              "3    even though great interest biblic movi bore de...\n",
              "4    im die hard dad armi fan noth ever chang got t...\n",
              "Name: text, dtype: object"
            ]
          },
          "metadata": {},
          "execution_count": 28
        }
      ]
    },
    {
      "cell_type": "code",
      "source": [
        "X_valid.head(5)"
      ],
      "metadata": {
        "colab": {
          "base_uri": "https://localhost:8080/"
        },
        "id": "AoYJl-rTbpnp",
        "outputId": "4251273a-d5e5-42f7-9f7f-decf2e0b81ea"
      },
      "execution_count": null,
      "outputs": [
        {
          "output_type": "execute_result",
          "data": {
            "text/plain": [
              "0    14 year sinc sharon stone award viewer legcros...\n",
              "1    someon need make car payment truli aw make jea...\n",
              "2    guidelin state comment must contain minimum fo...\n",
              "3    movi muddl mishmash cliché recent cinema promi...\n",
              "4    stan laurel becam smaller half alltim greatest...\n",
              "Name: text, dtype: object"
            ]
          },
          "metadata": {},
          "execution_count": 29
        }
      ]
    },
    {
      "cell_type": "markdown",
      "source": [
        "**PreProcessing**"
      ],
      "metadata": {
        "id": "y2YStUWwFVMZ"
      }
    },
    {
      "cell_type": "markdown",
      "source": [
        "* Tokenize"
      ],
      "metadata": {
        "id": "dQhAYL2oFVMZ"
      }
    },
    {
      "cell_type": "code",
      "source": [
        "max_words = 100000\n",
        "# max_len = 100\n",
        "\n",
        "# tok = Tokenizer(num_words=max_words)\n",
        "# tok.fit_on_texts(X_train)\n",
        "# sequences = tok.texts_to_sequences(X_train)\n",
        "# sequences_matrix = sequence.pad_sequences(sequences,maxlen=max_len)\n",
        "\n",
        "\n",
        "from keras.utils import pad_sequences\n",
        "from keras.preprocessing import text\n",
        "\n",
        "token = text.Tokenizer(num_words=max_words)\n",
        "max_len = 1500\n",
        "\n",
        "token.fit_on_texts(list(X_train) + list(X_valid))\n",
        "xtrain_seq = token.texts_to_sequences(X_train)\n",
        "xvalid_seq = token.texts_to_sequences(X_valid)\n",
        "\n",
        "xtrain_pad = pad_sequences(xtrain_seq, maxlen=max_len)\n",
        "\n",
        "xvalid_pad = pad_sequences(xvalid_seq, maxlen=max_len)\n",
        "\n",
        "#word_index = token.word_index"
      ],
      "metadata": {
        "trusted": true,
        "id": "EAgrO27tFVMZ"
      },
      "execution_count": null,
      "outputs": []
    },
    {
      "cell_type": "code",
      "source": [
        "model=tf.keras.Sequential()\n",
        "\n",
        "model.add(tf.keras.layers.Input(shape=[max_len]))\n",
        "model.add(tf.keras.layers.Embedding(max_words,128,input_length=max_len))    \n",
        "\n",
        "model.add(tf.keras.layers.LSTM(200, return_sequences=True))\n",
        "model.add(tf.keras.layers.Dropout(0.5))\n",
        "\n",
        "model.add(tf.keras.layers.LSTM(200,return_sequences=True))\n",
        "model.add(tf.keras.layers.Dropout(0.5))\n",
        "\n",
        "model.add(tf.keras.layers.LSTM(200))\n",
        "model.add(tf.keras.layers.Dropout(0.5))\n",
        "          \n",
        "model.add(tf.keras.layers.Dense(256))\n",
        "model.add(tf.keras.layers.Dropout(0.5))\n",
        "\n",
        "model.add(tf.keras.layers.Dense(1,activation='sigmoid')) #output layer"
      ],
      "metadata": {
        "trusted": true,
        "id": "JXsiWo3FFVMa"
      },
      "execution_count": null,
      "outputs": []
    },
    {
      "cell_type": "code",
      "source": [
        "model.summary()"
      ],
      "metadata": {
        "trusted": true,
        "id": "M2Z-l-OCFVMa",
        "colab": {
          "base_uri": "https://localhost:8080/"
        },
        "outputId": "baaf2ac8-5d1c-448d-ddb1-2b6d6ef7c5de"
      },
      "execution_count": null,
      "outputs": [
        {
          "output_type": "stream",
          "name": "stdout",
          "text": [
            "Model: \"sequential\"\n",
            "_________________________________________________________________\n",
            " Layer (type)                Output Shape              Param #   \n",
            "=================================================================\n",
            " embedding (Embedding)       (None, 1500, 128)         12800000  \n",
            "                                                                 \n",
            " lstm (LSTM)                 (None, 1500, 200)         263200    \n",
            "                                                                 \n",
            " dropout (Dropout)           (None, 1500, 200)         0         \n",
            "                                                                 \n",
            " lstm_1 (LSTM)               (None, 1500, 200)         320800    \n",
            "                                                                 \n",
            " dropout_1 (Dropout)         (None, 1500, 200)         0         \n",
            "                                                                 \n",
            " lstm_2 (LSTM)               (None, 200)               320800    \n",
            "                                                                 \n",
            " dropout_2 (Dropout)         (None, 200)               0         \n",
            "                                                                 \n",
            " dense (Dense)               (None, 256)               51456     \n",
            "                                                                 \n",
            " dropout_3 (Dropout)         (None, 256)               0         \n",
            "                                                                 \n",
            " dense_1 (Dense)             (None, 1)                 257       \n",
            "                                                                 \n",
            "=================================================================\n",
            "Total params: 13,756,513\n",
            "Trainable params: 13,756,513\n",
            "Non-trainable params: 0\n",
            "_________________________________________________________________\n"
          ]
        }
      ]
    },
    {
      "cell_type": "code",
      "source": [
        "model.compile(loss='binary_crossentropy',optimizer='adam',metrics=['acc'])"
      ],
      "metadata": {
        "trusted": true,
        "id": "yUR0euuNFVMb"
      },
      "execution_count": null,
      "outputs": []
    },
    {
      "cell_type": "code",
      "source": [
        "hist =model.fit(xtrain_pad,Y_train,batch_size=64,epochs=10)"
      ],
      "metadata": {
        "trusted": true,
        "id": "WR4UKgj2FVMb",
        "colab": {
          "base_uri": "https://localhost:8080/"
        },
        "outputId": "d3d55331-cf4b-4d88-a2af-1a1b6b9a84e0"
      },
      "execution_count": null,
      "outputs": [
        {
          "output_type": "stream",
          "name": "stdout",
          "text": [
            "Epoch 1/10\n",
            "625/625 [==============================] - 283s 437ms/step - loss: 0.3821 - acc: 0.8380\n",
            "Epoch 2/10\n",
            "625/625 [==============================] - 220s 352ms/step - loss: 0.1730 - acc: 0.9373\n",
            "Epoch 3/10\n",
            "625/625 [==============================] - 203s 324ms/step - loss: 0.0923 - acc: 0.9693\n",
            "Epoch 4/10\n",
            "625/625 [==============================] - 197s 315ms/step - loss: 0.0607 - acc: 0.9797\n",
            "Epoch 5/10\n",
            "625/625 [==============================] - 194s 311ms/step - loss: 0.0434 - acc: 0.9858\n",
            "Epoch 6/10\n",
            "625/625 [==============================] - 189s 302ms/step - loss: 0.0282 - acc: 0.9913\n",
            "Epoch 7/10\n",
            "625/625 [==============================] - 186s 298ms/step - loss: 0.0243 - acc: 0.9921\n",
            "Epoch 8/10\n",
            "625/625 [==============================] - 187s 299ms/step - loss: 0.0236 - acc: 0.9927\n",
            "Epoch 9/10\n",
            "625/625 [==============================] - 188s 300ms/step - loss: 0.0153 - acc: 0.9954\n",
            "Epoch 10/10\n",
            "625/625 [==============================] - 188s 300ms/step - loss: 0.0168 - acc: 0.9946\n"
          ]
        }
      ]
    },
    {
      "cell_type": "code",
      "source": [
        "model.evaluate(xtrain_pad,Y_train)"
      ],
      "metadata": {
        "trusted": true,
        "id": "oQdqDCEOFVMb",
        "colab": {
          "base_uri": "https://localhost:8080/"
        },
        "outputId": "b012e297-ff6d-449c-f8a7-c939e1f026d0"
      },
      "execution_count": null,
      "outputs": [
        {
          "output_type": "stream",
          "name": "stdout",
          "text": [
            "1250/1250 [==============================] - 101s 79ms/step - loss: 0.0073 - acc: 0.9980\n"
          ]
        },
        {
          "output_type": "execute_result",
          "data": {
            "text/plain": [
              "[0.00728685362264514, 0.99795001745224]"
            ]
          },
          "metadata": {},
          "execution_count": 34
        }
      ]
    },
    {
      "cell_type": "markdown",
      "source": [
        "Valid data"
      ],
      "metadata": {
        "id": "WtNf2whFFVMc"
      }
    },
    {
      "cell_type": "code",
      "source": [
        "hist_valid =model.fit(xvalid_pad,Y_valid,batch_size=64,epochs=10)"
      ],
      "metadata": {
        "trusted": true,
        "id": "OiOS2cJEFVMc",
        "colab": {
          "base_uri": "https://localhost:8080/"
        },
        "outputId": "0ab41e7c-fdf6-4c03-f4bc-118b46c4e004"
      },
      "execution_count": null,
      "outputs": [
        {
          "output_type": "stream",
          "name": "stdout",
          "text": [
            "Epoch 1/10\n",
            "79/79 [==============================] - 26s 293ms/step - loss: 0.3328 - acc: 0.8720\n",
            "Epoch 2/10\n",
            "79/79 [==============================] - 24s 305ms/step - loss: 0.1584 - acc: 0.9544\n",
            "Epoch 3/10\n",
            "79/79 [==============================] - 24s 307ms/step - loss: 0.0709 - acc: 0.9828\n",
            "Epoch 4/10\n",
            "79/79 [==============================] - 24s 301ms/step - loss: 0.0333 - acc: 0.9922\n",
            "Epoch 5/10\n",
            "79/79 [==============================] - 24s 308ms/step - loss: 0.0090 - acc: 0.9974\n",
            "Epoch 6/10\n",
            "79/79 [==============================] - 25s 313ms/step - loss: 0.0043 - acc: 0.9988\n",
            "Epoch 7/10\n",
            "79/79 [==============================] - 24s 310ms/step - loss: 7.6229e-04 - acc: 1.0000\n",
            "Epoch 8/10\n",
            "79/79 [==============================] - 24s 307ms/step - loss: 1.3440e-04 - acc: 1.0000\n",
            "Epoch 9/10\n",
            "79/79 [==============================] - 25s 312ms/step - loss: 7.0193e-05 - acc: 1.0000\n",
            "Epoch 10/10\n",
            "79/79 [==============================] - 24s 310ms/step - loss: 5.3234e-05 - acc: 1.0000\n"
          ]
        }
      ]
    },
    {
      "cell_type": "code",
      "source": [
        "model.evaluate(xvalid_pad,Y_valid)"
      ],
      "metadata": {
        "trusted": true,
        "id": "kgfjBd0RFVMc",
        "colab": {
          "base_uri": "https://localhost:8080/"
        },
        "outputId": "914cfa9b-a3b0-40de-aacc-0c0551229a9a"
      },
      "execution_count": null,
      "outputs": [
        {
          "output_type": "stream",
          "name": "stdout",
          "text": [
            "157/157 [==============================] - 13s 80ms/step - loss: 1.1101e-05 - acc: 1.0000\n"
          ]
        },
        {
          "output_type": "execute_result",
          "data": {
            "text/plain": [
              "[1.1101114978373516e-05, 1.0]"
            ]
          },
          "metadata": {},
          "execution_count": 36
        }
      ]
    },
    {
      "cell_type": "code",
      "source": [
        "plt.plot(hist.history['loss'],'g')\n",
        "plt.xlabel('Epochs:')\n",
        "plt.ylabel('Loss:')\n",
        "plt.show()"
      ],
      "metadata": {
        "trusted": true,
        "id": "0EdjQ5QrFVMd",
        "colab": {
          "base_uri": "https://localhost:8080/",
          "height": 454
        },
        "outputId": "d018645a-91ec-497e-f3dc-880c4e3db90d"
      },
      "execution_count": null,
      "outputs": [
        {
          "output_type": "display_data",
          "data": {
            "text/plain": [
              "<Figure size 640x480 with 1 Axes>"
            ],
            "image/png": "[encoded data removed]"
          },
          "metadata": {}
        }
      ]
    },
    {
      "cell_type": "code",
      "source": [
        "plt.plot(hist.history['acc'],'b')\n",
        "plt.xlabel('Epochs:')\n",
        "plt.ylabel('Accuracy:')\n",
        "plt.show()"
      ],
      "metadata": {
        "trusted": true,
        "id": "WyW7CKl9FVMd",
        "colab": {
          "base_uri": "https://localhost:8080/",
          "height": 449
        },
        "outputId": "20543d33-b464-4bcf-c9d3-8c1fd1f4f25c"
      },
      "execution_count": null,
      "outputs": [
        {
          "output_type": "display_data",
          "data": {
            "text/plain": [
              "<Figure size 640x480 with 1 Axes>"
            ],
            "image/png": "[encoded data removed]"
          },
          "metadata": {}
        }
      ]
    },
    {
      "cell_type": "markdown",
      "source": [
        "valid data"
      ],
      "metadata": {
        "id": "4yxskOZpFVMu"
      }
    },
    {
      "cell_type": "code",
      "source": [
        "plt.plot(hist_valid.history['loss'],'g')\n",
        "plt.xlabel('Epochs:')\n",
        "plt.ylabel('Loss:')\n",
        "plt.show()"
      ],
      "metadata": {
        "trusted": true,
        "id": "cv8SWcboFVMu",
        "colab": {
          "base_uri": "https://localhost:8080/",
          "height": 449
        },
        "outputId": "8f635b22-90bb-4324-c576-54710a1a7d4c"
      },
      "execution_count": null,
      "outputs": [
        {
          "output_type": "display_data",
          "data": {
            "text/plain": [
              "<Figure size 640x480 with 1 Axes>"
            ],
            "image/png": "[encoded data removed]"
          },
          "metadata": {}
        }
      ]
    },
    {
      "cell_type": "code",
      "source": [
        "plt.plot(hist_valid.history['acc'],'b')\n",
        "plt.xlabel('Epochs:')\n",
        "plt.ylabel('Accuracy:')\n",
        "plt.show()"
      ],
      "metadata": {
        "trusted": true,
        "id": "8J9I2XhcFVMu",
        "colab": {
          "base_uri": "https://localhost:8080/",
          "height": 449
        },
        "outputId": "70a24412-6f48-405c-e633-25446123f4e1"
      },
      "execution_count": null,
      "outputs": [
        {
          "output_type": "display_data",
          "data": {
            "text/plain": [
              "<Figure size 640x480 with 1 Axes>"
            ],
            "image/png": "[encoded data removed]"
          },
          "metadata": {}
        }
      ]
    },
    {
      "cell_type": "markdown",
      "source": [
        "Test data"
      ],
      "metadata": {
        "id": "s1I7c-ixFVMv"
      }
    },
    {
      "cell_type": "code",
      "source": [
        "X_test= test_data.text"
      ],
      "metadata": {
        "trusted": true,
        "id": "C_F72a14FVMv"
      },
      "execution_count": null,
      "outputs": []
    },
    {
      "cell_type": "code",
      "source": [
        "X_test=X_test.apply(lambda x: remove_punctuations(x).lower())\n",
        "X_test=X_test.apply(lambda x: remove_html(x))\n",
        "X_test=X_test.apply(lambda x: remove_url(x))\n",
        "X_test=X_test.apply(lambda x: remove_stopwords(x))\n",
        "ps = nltk.PorterStemmer()\n",
        "X_test=X_test.apply(lambda x: stemming(x))"
      ],
      "metadata": {
        "id": "ZKCD-YroNjWp"
      },
      "execution_count": null,
      "outputs": []
    },
    {
      "cell_type": "code",
      "source": [
        "tok = text.Tokenizer(num_words=max_words)\n",
        "tok.fit_on_texts(X_test)\n",
        "sequences_test = tok.texts_to_sequences(X_test)\n",
        "sequences_matrix_test = pad_sequences(sequences_test,maxlen=max_len)"
      ],
      "metadata": {
        "trusted": true,
        "id": "pGFS_sc5FVMw"
      },
      "execution_count": null,
      "outputs": []
    },
    {
      "cell_type": "code",
      "source": [
        "pred=model.predict(sequences_matrix_test)"
      ],
      "metadata": {
        "trusted": true,
        "id": "Ngzre1FWFVMw",
        "colab": {
          "base_uri": "https://localhost:8080/"
        },
        "outputId": "1fae7569-8505-444b-ffdb-83216e3f1b4a"
      },
      "execution_count": null,
      "outputs": [
        {
          "output_type": "stream",
          "name": "stdout",
          "text": [
            "157/157 [==============================] - 13s 77ms/step\n"
          ]
        }
      ]
    },
    {
      "cell_type": "code",
      "source": [
        "pred=(pred>0.5)*1"
      ],
      "metadata": {
        "trusted": true,
        "id": "VMYaXzDvFVMx"
      },
      "execution_count": null,
      "outputs": []
    },
    {
      "cell_type": "code",
      "source": [
        "submission= pd.read_csv('/content/sample_submission.csv')\n",
        "submission=pd.DataFrame()\n",
        "submission['id']=test_data['id']\n",
        "submission['label']=pred"
      ],
      "metadata": {
        "trusted": true,
        "id": "8pX5AzEFFVMx"
      },
      "execution_count": null,
      "outputs": []
    },
    {
      "cell_type": "code",
      "source": [
        "submission.head(10)"
      ],
      "metadata": {
        "trusted": true,
        "id": "2IwUvdXXFVMx",
        "colab": {
          "base_uri": "https://localhost:8080/",
          "height": 363
        },
        "outputId": "9b5aa477-670c-4327-9768-f01c0a2afa2b"
      },
      "execution_count": null,
      "outputs": [
        {
          "output_type": "execute_result",
          "data": {
            "text/plain": [
              "   id  label\n",
              "0   0      0\n",
              "1   1      1\n",
              "2   2      0\n",
              "3   3      1\n",
              "4   4      0\n",
              "5   5      0\n",
              "6   6      0\n",
              "7   7      0\n",
              "8   8      0\n",
              "9   9      0"
            ],
            "text/html": [
              "\n",
              "  <div id=\"df-044c35ab-75cb-4c7a-8f41-6800f14bda5a\">\n",
              "    <div class=\"colab-df-container\">\n",
              "      <div>\n",
              "<style scoped>\n",
              "    .dataframe tbody tr th:only-of-type {\n",
              "        vertical-align: middle;\n",
              "    }\n",
              "\n",
              "    .dataframe tbody tr th {\n",
              "        vertical-align: top;\n",
              "    }\n",
              "\n",
              "    .dataframe thead th {\n",
              "        text-align: right;\n",
              "    }\n",
              "</style>\n",
              "<table border=\"1\" class=\"dataframe\">\n",
              "  <thead>\n",
              "    <tr style=\"text-align: right;\">\n",
              "      <th></th>\n",
              "      <th>id</th>\n",
              "      <th>label</th>\n",
              "    </tr>\n",
              "  </thead>\n",
              "  <tbody>\n",
              "    <tr>\n",
              "      <th>0</th>\n",
              "      <td>0</td>\n",
              "      <td>0</td>\n",
              "    </tr>\n",
              "    <tr>\n",
              "      <th>1</th>\n",
              "      <td>1</td>\n",
              "      <td>1</td>\n",
              "    </tr>\n",
              "    <tr>\n",
              "      <th>2</th>\n",
              "      <td>2</td>\n",
              "      <td>0</td>\n",
              "    </tr>\n",
              "    <tr>\n",
              "      <th>3</th>\n",
              "      <td>3</td>\n",
              "      <td>1</td>\n",
              "    </tr>\n",
              "    <tr>\n",
              "      <th>4</th>\n",
              "      <td>4</td>\n",
              "      <td>0</td>\n",
              "    </tr>\n",
              "    <tr>\n",
              "      <th>5</th>\n",
              "      <td>5</td>\n",
              "      <td>0</td>\n",
              "    </tr>\n",
              "    <tr>\n",
              "      <th>6</th>\n",
              "      <td>6</td>\n",
              "      <td>0</td>\n",
              "    </tr>\n",
              "    <tr>\n",
              "      <th>7</th>\n",
              "      <td>7</td>\n",
              "      <td>0</td>\n",
              "    </tr>\n",
              "    <tr>\n",
              "      <th>8</th>\n",
              "      <td>8</td>\n",
              "      <td>0</td>\n",
              "    </tr>\n",
              "    <tr>\n",
              "      <th>9</th>\n",
              "      <td>9</td>\n",
              "      <td>0</td>\n",
              "    </tr>\n",
              "  </tbody>\n",
              "</table>\n",
              "</div>\n",
              "      <button class=\"colab-df-convert\" onclick=\"convertToInteractive('df-044c35ab-75cb-4c7a-8f41-6800f14bda5a')\"\n",
              "              title=\"Convert this dataframe to an interactive table.\"\n",
              "              style=\"display:none;\">\n",
              "        \n",
              "  <svg xmlns=\"http://www.w3.org/2000/svg\" height=\"24px\"viewBox=\"0 0 24 24\"\n",
              "       width=\"24px\">\n",
              "    <path d=\"M0 0h24v24H0V0z\" fill=\"none\"/>\n",
              "    <path d=\"M18.56 5.44l.94 2.06.94-2.06 2.06-.94-2.06-.94-.94-2.06-.94 2.06-2.06.94zm-11 1L8.5 8.5l.94-2.06 2.06-.94-2.06-.94L8.5 2.5l-.94 2.06-2.06.94zm10 10l.94 2.06.94-2.06 2.06-.94-2.06-.94-.94-2.06-.94 2.06-2.06.94z\"/><path d=\"M17.41 7.96l-1.37-1.37c-.4-.4-.92-.59-1.43-.59-.52 0-1.04.2-1.43.59L10.3 9.45l-7.72 7.72c-.78.78-.78 2.05 0 2.83L4 21.41c.39.39.9.59 1.41.59.51 0 1.02-.2 1.41-.59l7.78-7.78 2.81-2.81c.8-.78.8-2.07 0-2.86zM5.41 20L4 18.59l7.72-7.72 1.47 1.35L5.41 20z\"/>\n",
              "  </svg>\n",
              "      </button>\n",
              "      \n",
              "  <style>\n",
              "    .colab-df-container {\n",
              "      display:flex;\n",
              "      flex-wrap:wrap;\n",
              "      gap: 12px;\n",
              "    }\n",
              "\n",
              "    .colab-df-convert {\n",
              "      background-color: #E8F0FE;\n",
              "      border: none;\n",
              "      border-radius: 50%;\n",
              "      cursor: pointer;\n",
              "      display: none;\n",
              "      fill: #1967D2;\n",
              "      height: 32px;\n",
              "      padding: 0 0 0 0;\n",
              "      width: 32px;\n",
              "    }\n",
              "\n",
              "    .colab-df-convert:hover {\n",
              "      background-color: #E2EBFA;\n",
              "      box-shadow: 0px 1px 2px rgba(60, 64, 67, 0.3), 0px 1px 3px 1px rgba(60, 64, 67, 0.15);\n",
              "      fill: #174EA6;\n",
              "    }\n",
              "\n",
              "    [theme=dark] .colab-df-convert {\n",
              "      background-color: #3B4455;\n",
              "      fill: #D2E3FC;\n",
              "    }\n",
              "\n",
              "    [theme=dark] .colab-df-convert:hover {\n",
              "      background-color: #434B5C;\n",
              "      box-shadow: 0px 1px 3px 1px rgba(0, 0, 0, 0.15);\n",
              "      filter: drop-shadow(0px 1px 2px rgba(0, 0, 0, 0.3));\n",
              "      fill: #FFFFFF;\n",
              "    }\n",
              "  </style>\n",
              "\n",
              "      <script>\n",
              "        const buttonEl =\n",
              "          document.querySelector('#df-044c35ab-75cb-4c7a-8f41-6800f14bda5a button.colab-df-convert');\n",
              "        buttonEl.style.display =\n",
              "          google.colab.kernel.accessAllowed ? 'block' : 'none';\n",
              "\n",
              "        async function convertToInteractive(key) {\n",
              "          const element = document.querySelector('#df-044c35ab-75cb-4c7a-8f41-6800f14bda5a');\n",
              "          const dataTable =\n",
              "            await google.colab.kernel.invokeFunction('convertToInteractive',\n",
              "                                                     [key], {});\n",
              "          if (!dataTable) return;\n",
              "\n",
              "          const docLinkHtml = 'Like what you see? Visit the ' +\n",
              "            '<a target=\"_blank\" href=https://colab.research.google.com/notebooks/data_table.ipynb>data table notebook</a>'\n",
              "            + ' to learn more about interactive tables.';\n",
              "          element.innerHTML = '';\n",
              "          dataTable['output_type'] = 'display_data';\n",
              "          await google.colab.output.renderOutput(dataTable, element);\n",
              "          const docLink = document.createElement('div');\n",
              "          docLink.innerHTML = docLinkHtml;\n",
              "          element.appendChild(docLink);\n",
              "        }\n",
              "      </script>\n",
              "    </div>\n",
              "  </div>\n",
              "  "
            ]
          },
          "metadata": {},
          "execution_count": 47
        }
      ]
    },
    {
      "cell_type": "code",
      "source": [
        "submission.to_csv('sample_submission4.csv',index=False)"
      ],
      "metadata": {
        "trusted": true,
        "id": "vhrXrQ3mFVMy"
      },
      "execution_count": null,
      "outputs": []
    },
    {
      "cell_type": "markdown",
      "source": [
        "ML on Test data"
      ],
      "metadata": {
        "id": "dx5I2WTHyTx2"
      }
    },
    {
      "cell_type": "code",
      "source": [
        "X_test=X_test.apply(tokenize)"
      ],
      "metadata": {
        "id": "0b_uR7mPySCn"
      },
      "execution_count": null,
      "outputs": []
    }
  ]
}